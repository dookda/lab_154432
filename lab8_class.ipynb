{
 "cells": [
  {
   "cell_type": "code",
   "execution_count": 21,
   "metadata": {},
   "outputs": [],
   "source": [
    "class Car:\n",
    "    # constructor\n",
    "    def __init__(self, name, color):\n",
    "        self.name = name\n",
    "        self.color = color  \n",
    "    # properties\n",
    "    wheel = 4\n",
    "    door = 2\n",
    "    # method\n",
    "    def speed(self, sp=120):\n",
    "        print(f\"{sp} km/hr\") \n"
   ]
  },
  {
   "cell_type": "code",
   "execution_count": 22,
   "metadata": {},
   "outputs": [
    {
     "name": "stdout",
     "output_type": "stream",
     "text": [
      "120 km/hr\n",
      "2 4 Red Tesla\n"
     ]
    }
   ],
   "source": [
    "tesla = Car()\n",
    "tesla.speed()\n",
    "tesla.brand = \"Tesla\"\n",
    "tesla.color = \"Red\"\n",
    "print(tesla.door, tesla.wheel, tesla.color, tesla.brand)"
   ]
  },
  {
   "cell_type": "code",
   "execution_count": 34,
   "metadata": {},
   "outputs": [
    {
     "name": "stdout",
     "output_type": "stream",
     "text": [
      "180 km/hr\n",
      "{'brand': 'Tesla', 'color': 'Red'}\n",
      "{'brand': 'Lamboo', 'door': 3, 'color': 'Orange', 'new_method': <function new_method at 0x107ef5120>}\n",
      "{'brand': 'Lamboo', 'door': 3, 'color': 'Orange', 'new_method': <function new_method at 0x107ef5120>}\n"
     ]
    }
   ],
   "source": []
  },
  {
   "cell_type": "code",
   "execution_count": null,
   "metadata": {},
   "outputs": [],
   "source": [
    "# add method to class\n"
   ]
  }
 ],
 "metadata": {
  "kernelspec": {
   "display_name": "geo",
   "language": "python",
   "name": "python3"
  },
  "language_info": {
   "codemirror_mode": {
    "name": "ipython",
    "version": 3
   },
   "file_extension": ".py",
   "mimetype": "text/x-python",
   "name": "python",
   "nbconvert_exporter": "python",
   "pygments_lexer": "ipython3",
   "version": "3.12.2"
  }
 },
 "nbformat": 4,
 "nbformat_minor": 2
}
