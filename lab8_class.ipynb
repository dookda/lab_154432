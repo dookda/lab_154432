{
 "cells": [
  {
   "cell_type": "code",
   "execution_count": 21,
   "metadata": {},
   "outputs": [],
   "source": [
    "class Car:\n",
    "    # properties\n",
    "    wheel = 4\n",
    "    door = 2\n",
    "    # method\n",
    "    def speed(self, sp=120):\n",
    "        print(f\"{sp} km/hr\") \n"
   ]
  },
  {
   "cell_type": "code",
   "execution_count": 22,
   "metadata": {},
   "outputs": [
    {
     "name": "stdout",
     "output_type": "stream",
     "text": [
      "120 km/hr\n",
      "2 4 Red Tesla\n"
     ]
    }
   ],
   "source": [
    "tesla = Car()\n",
    "tesla.speed()\n",
    "tesla.brand = \"Tesla\"\n",
    "tesla.color = \"Red\"\n",
    "print(tesla.door, tesla.wheel, tesla.color, tesla.brand)"
   ]
  },
  {
   "cell_type": "code",
   "execution_count": 23,
   "metadata": {},
   "outputs": [
    {
     "name": "stdout",
     "output_type": "stream",
     "text": [
      "180 km/hr\n",
      "Lamboo 3 4 Orange\n"
     ]
    }
   ],
   "source": [
    "lamboo = Car()\n",
    "lamboo.brand = \"Lamboo\"\n",
    "lamboo.door = 3\n",
    "lamboo.color = \"Orange\"\n",
    "lamboo.speed(180)\n",
    "print(lamboo.brand, lamboo.door, lamboo.wheel, lamboo.color)"
   ]
  }
 ],
 "metadata": {
  "kernelspec": {
   "display_name": "geo",
   "language": "python",
   "name": "python3"
  },
  "language_info": {
   "codemirror_mode": {
    "name": "ipython",
    "version": 3
   },
   "file_extension": ".py",
   "mimetype": "text/x-python",
   "name": "python",
   "nbconvert_exporter": "python",
   "pygments_lexer": "ipython3",
   "version": "3.12.2"
  }
 },
 "nbformat": 4,
 "nbformat_minor": 2
}
