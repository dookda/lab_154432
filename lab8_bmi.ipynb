{
 "cells": [
  {
   "cell_type": "code",
   "execution_count": 1,
   "metadata": {},
   "outputs": [],
   "source": [
    "def calBmi(weight, height):\n",
    "    return weight / (height ** 2)\n",
    "\n",
    "def reclassBmi(bmi):\n",
    "    if bmi < 18.5:\n",
    "        return \"Underweight\"\n",
    "    elif bmi < 24:\n",
    "        return \"Normal weight\"\n",
    "    elif bmi < 27:\n",
    "        return \"Overweight\"\n",
    "    elif bmi < 30:\n",
    "        return \"Obesity class 1\"\n",
    "    elif bmi < 35:\n",
    "        return \"Obesity class 2\"\n",
    "    else:\n",
    "        return \"Obesity class 3\"\n"
   ]
  },
  {
   "cell_type": "code",
   "execution_count": 3,
   "metadata": {},
   "outputs": [
    {
     "name": "stdout",
     "output_type": "stream",
     "text": [
      "BMI:  19.591836734693878\n",
      "You are:  Normal weight\n"
     ]
    }
   ],
   "source": [
    "import funbmi as fb\n",
    "\n",
    "weight = 60\n",
    "height = 1.75\n",
    "\n",
    "bmi = fb.calBmi(weight, height)\n",
    "print(\"BMI: \", bmi)\n",
    "bmiTxt = fb.reclassBmi(bmi)\n",
    "\n",
    "print(\"You are: \", bmiTxt)"
   ]
  },
  {
   "cell_type": "code",
   "execution_count": 23,
   "metadata": {},
   "outputs": [],
   "source": [
    "class Bmi:\n",
    "    def __init__(self):\n",
    "        self.weight = 0\n",
    "        self.height = 0\n",
    "        self.bmi = 0\n",
    "        self.bmiTxt = \"\"\n",
    "    \n",
    "    def setWeight(self, weight):\n",
    "        self.weight = weight\n",
    "        return self\n",
    "    \n",
    "    def setHeight(self, height):\n",
    "        self.height = height\n",
    "        return self\n",
    "    \n",
    "    def calBmi(self):\n",
    "        self.bmi = self.weight / self.height**2\n",
    "        return self\n",
    "\n",
    "    def reclassBmi(self):\n",
    "        if self.bmi < 18.5:\n",
    "            self.bmiTxt = \"Underweight\"\n",
    "            return self\n",
    "        elif self.bmi < 24:\n",
    "            self.bmiTxt = \"Normal weight\"\n",
    "            return self\n",
    "        elif self.bmi < 27:\n",
    "            self.bmiTxt = \"Overweight\"\n",
    "            return self\n",
    "        elif self.bmi < 30:\n",
    "            self.bmiTxt = \"อวบระยะ 1\"\n",
    "            return self\n",
    "        elif self.bmi < 35:\n",
    "            self.bmiTxt = \"อวบระยะ 2\"\n",
    "            return self\n",
    "        else:\n",
    "            self.bmiTxt = \"อวบระยะ 3\"\n",
    "            return self\n",
    "    \n",
    "    def __str__(self):\n",
    "        return f\"น้ำหนัก:{self.weight} สูง:{self.height} bmi:{self.bmi} {self.bmiTxt}\""
   ]
  },
  {
   "cell_type": "code",
   "execution_count": 26,
   "metadata": {},
   "outputs": [
    {
     "name": "stdout",
     "output_type": "stream",
     "text": [
      "น้ำหนัก:0 สูง:0 bmi:0 \n",
      "น้ำหนัก:65 สูง:1.45 bmi:30.915576694411413 อวบระยะ 2\n",
      "อวบระยะ 2\n"
     ]
    }
   ],
   "source": [
    "bmi = Bmi()\n",
    "print(bmi)\n",
    "\n",
    "# bmi.setHeight(1.67)\n",
    "# bmi.setWeight(56)\n",
    "# bmi.calBmi()\n",
    "# bmi.reclassBmi()\n",
    "bmi.setHeight(1.45).setWeight(65).calBmi().reclassBmi()\n",
    "print(bmi)\n",
    "print(bmi.bmiTxt)\n"
   ]
  },
  {
   "cell_type": "code",
   "execution_count": 1,
   "metadata": {},
   "outputs": [
    {
     "name": "stderr",
     "output_type": "stream",
     "text": [
      "2025-01-30 16:46:54.419 python[67820:6686699] +[IMKClient subclass]: chose IMKClient_Modern\n",
      "2025-01-30 16:46:54.419 python[67820:6686699] +[IMKInputSession subclass]: chose IMKInputSession_Modern\n"
     ]
    }
   ],
   "source": [
    "import tkinter as tk  # นิยมตั้งชื่อย่อว่า tk\n",
    "\n",
    "root = tk.Tk()                # สร้างหน้าต่างหลัก (Main Window)\n",
    "root.title(\"My Tkinter App\")  # ตั้งชื่อหน้าต่าง\n",
    "root.geometry(\"400x300\")      \n",
    "\n",
    "# label\n",
    "label = tk.Label(root, text=\"สวัสดี\", font=(\"TH Sarabun New\", 20))\n",
    "label.pack()\n",
    "\n",
    "# input\n",
    "entry = tk.Entry(root, font=(\"TH Sarabun New\", 20))\n",
    "entry.pack()\n",
    "\n",
    "# input2\n",
    "entry2 = tk.Entry(root, font=(\"TH Sarabun New\", 20))\n",
    "entry2.pack()\n",
    "\n",
    "#  button\n",
    "button = tk.Button(root, text=\"ตกลง\", font=(\"TH Sarabun New\", 20))\n",
    "button.pack()\n",
    "\n",
    "root.mainloop()  # เริ่ม event loop"
   ]
  },
  {
   "cell_type": "code",
   "execution_count": 19,
   "metadata": {},
   "outputs": [
    {
     "name": "stdout",
     "output_type": "stream",
     "text": [
      "1.5 64\n",
      "น้ำหนัก:64.0 สูง:1.5 bmi:28.444444444444443 อวบระยะ 1\n",
      "1.5 65\n",
      "น้ำหนัก:65.0 สูง:1.5 bmi:28.88888888888889 อวบระยะ 1\n",
      "1.5 59\n",
      "น้ำหนัก:59.0 สูง:1.5 bmi:26.22222222222222 Overweight\n"
     ]
    }
   ],
   "source": [
    "import lab8_bmi as bmi\n",
    "import tkinter as tk\n",
    "\n",
    "root = tk.Tk()\n",
    "root.title(\"BMI Calculator\")\n",
    "root.geometry(\"400x300\")\n",
    "\n",
    "hLabel = tk.Label(root, text=\"กรอกส่วนสูง (เมตร)\")\n",
    "hLabel.pack()\n",
    "\n",
    "hInput = tk.Entry(root)\n",
    "hInput.pack()\n",
    "\n",
    "wLabel = tk.Label(root, text=\"กรอกน้ำหนัก (กก.)\")\n",
    "wLabel.pack()\n",
    "\n",
    "wInput = tk.Entry(root)\n",
    "wInput.pack()\n",
    "\n",
    "result = tk.StringVar()\n",
    "result.set(\"กรุณากรอกน้ำหนักและส่วนสูง\")\n",
    "bmi = bmi.Bmi()\n",
    "def bmiCal():\n",
    "    h = hInput.get()\n",
    "    w = wInput.get()\n",
    "    print(h, w)\n",
    "    bmi.setHeight(float(h))\n",
    "    bmi.setWeight(float(w))\n",
    "    bmi.calBmi()\n",
    "    bmi.reclassBmi()\n",
    "    print(bmi)\n",
    "    result.set(f\"ค่า BMI: {bmi.bmi} อยู่ในเกณฑ์: {bmi.bmiTxt}\")\n",
    "    \n",
    "button = tk.Button(root, text=\"คำนวณ\",command=bmiCal)\n",
    "button.pack()\n",
    "resultLabel = tk.Label(root, textvariable=result)\n",
    "resultLabel.pack()\n",
    "\n",
    "root.mainloop()"
   ]
  }
 ],
 "metadata": {
  "kernelspec": {
   "display_name": "geo",
   "language": "python",
   "name": "python3"
  },
  "language_info": {
   "codemirror_mode": {
    "name": "ipython",
    "version": 3
   },
   "file_extension": ".py",
   "mimetype": "text/x-python",
   "name": "python",
   "nbconvert_exporter": "python",
   "pygments_lexer": "ipython3",
   "version": "3.12.2"
  }
 },
 "nbformat": 4,
 "nbformat_minor": 2
}
