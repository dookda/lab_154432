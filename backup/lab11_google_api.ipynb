{
 "cells": [
  {
   "cell_type": "code",
   "execution_count": null,
   "metadata": {},
   "outputs": [
    {
     "name": "stdout",
     "output_type": "stream",
     "text": [
      "{'destination_addresses': ['อาคาร Zen PGWQ+3W5, Ratchadamri Rd, Khwaeng Pathum Wan, Pathum Wan, Krung Thep Maha Nakhon 10330, Thailand'], 'origin_addresses': ['QG42+GPJ, Wat Bowon Niwet, Phra Nakhon, Bangkok 10200, Thailand'], 'rows': [{'elements': [{'distance': {'text': '6.5 km', 'value': 6512}, 'duration': {'text': '19 mins', 'value': 1141}, 'duration_in_traffic': {'text': '42 mins', 'value': 2548}, 'status': 'OK'}]}], 'status': 'OK'}\n"
     ]
    }
   ],
   "source": [
    "import requests\n",
    "\n",
    "API_KEY =\"\"\n",
    "ORIGIN = \"13.7563,100.5018\" \n",
    "DESTINATION = \"13.7450,100.5400\"  \n",
    "URL = f\"https://maps.googleapis.com/maps/api/distancematrix/json?origins={ORIGIN}&destinations={DESTINATION}&departure_time=now&traffic_model=best_guess&key={API_KEY}\"\n",
    "\n",
    "response = requests.get(URL)\n",
    "traffic_data = response.json()\n",
    "print(traffic_data)"
   ]
  }
 ],
 "metadata": {
  "kernelspec": {
   "display_name": "geo",
   "language": "python",
   "name": "python3"
  },
  "language_info": {
   "codemirror_mode": {
    "name": "ipython",
    "version": 3
   },
   "file_extension": ".py",
   "mimetype": "text/x-python",
   "name": "python",
   "nbconvert_exporter": "python",
   "pygments_lexer": "ipython3",
   "version": "3.12.2"
  }
 },
 "nbformat": 4,
 "nbformat_minor": 2
}
