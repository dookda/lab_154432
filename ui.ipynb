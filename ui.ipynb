{
 "cells": [
  {
   "cell_type": "code",
   "execution_count": 1,
   "metadata": {},
   "outputs": [],
   "source": [
    "import tkinter as tk\n",
    "import tkinter.font as tkFont\n"
   ]
  },
  {
   "cell_type": "code",
   "execution_count": 46,
   "metadata": {},
   "outputs": [],
   "source": [
    "root = tk.Tk()\n",
    "\n",
    "root.title(\"Hello World!\")\n",
    "root.geometry(\"400x300\")\n",
    "\n",
    "# create a font\n",
    "font24 = tkFont.Font(size=24, weight=\"bold\")  \n",
    "\n",
    "# add a label\n",
    "label = tk.Label(root, text=\"Hello ดา!\", font=font24)\n",
    "\n",
    "# pack the label into the window\n",
    "label.pack()\n",
    "\n",
    "root.mainloop()\n",
    "\n"
   ]
  },
  {
   "cell_type": "code",
   "execution_count": 32,
   "metadata": {},
   "outputs": [],
   "source": [
    "root = tk.Tk()\n",
    "\n",
    "root.title(\"Hello World!\")\n",
    "root.geometry(\"400x300\")\n",
    "\n",
    "# create a font\n",
    "font24 = tkFont.Font(size=24, weight=\"bold\")  \n",
    "\n",
    "# label\n",
    "label = tk.Label(root, text=\"Hello ดา!\", font=font24)\n",
    "label.pack(pady=20)\n",
    "\n",
    "# input\n",
    "entry = tk.Entry(root)\n",
    "entry.pack()\n",
    "\n",
    "# button\n",
    "def say_hello():\n",
    "    # get the text from the entry\n",
    "    name = entry.get()\n",
    "    label.config(text=name)\n",
    "\n",
    "button = tk.Button(root, text=\"Say Hello\", command=say_hello)\n",
    "button.pack(ipadx=5, ipady=5, anchor=\"center\", expand=True)\n",
    "\n",
    "\n",
    "root.mainloop()"
   ]
  },
  {
   "cell_type": "code",
   "execution_count": 38,
   "metadata": {},
   "outputs": [],
   "source": [
    "import tkinter as tk\n",
    "\n",
    "root = tk.Tk()\n",
    "root.title(\"Grid Example\")\n",
    "root.geometry(\"300x200\")\n",
    "\n",
    "label1 = tk.Label(root, text=\"Label 1\")\n",
    "label2 = tk.Label(root, text=\"Label 2\")\n",
    "button = tk.Button(root, text=\"A Button\")\n",
    "\n",
    "# จัดวางวิดเจ็ตบนตาราง 2 แถว 2 คอลัมน์ (row=0,1 / column=0,1)\n",
    "label1.grid(row=0, column=0, padx=10, pady=10)\n",
    "label2.grid(row=0, column=1, padx=10, pady=10)\n",
    "button.grid(row=1, column=0, pady=10)\n",
    "\n",
    "root.mainloop()"
   ]
  },
  {
   "cell_type": "code",
   "execution_count": 2,
   "metadata": {},
   "outputs": [],
   "source": [
    "from tkinter import messagebox\n",
    "\n",
    "root = tk.Tk()\n",
    "root.title(\"Grid Example\")\n",
    "root.geometry(\"300x200\")\n",
    "\n",
    "paned = tk.PanedWindow(root, orient=tk.HORIZONTAL)\n",
    "paned.pack(fill=tk.BOTH, expand=True)\n",
    "\n",
    "left_frame = tk.Frame(paned, bg=\"lightblue\")\n",
    "paned.add(left_frame)\n",
    "\n",
    "right_frame = tk.Frame(paned, bg=\"lightgreen\")\n",
    "paned.add(right_frame)\n",
    "\n",
    "root.mainloop()"
   ]
  },
  {
   "cell_type": "code",
   "execution_count": 4,
   "metadata": {},
   "outputs": [],
   "source": [
    "import tkinter as tk\n",
    "\n",
    "def main():\n",
    "    # สร้างหน้าต่างหลัก\n",
    "    root = tk.Tk()\n",
    "    root.title(\"PanedWindow Example\")\n",
    "    root.geometry(\"600x400\")  # กำหนดขนาดหน้าต่าง (กว้างxสูง)\n",
    "\n",
    "    # สร้าง PanedWindow แบบแนวนอน\n",
    "    paned = tk.PanedWindow(root, orient=tk.HORIZONTAL)\n",
    "    paned.pack(fill=tk.BOTH, expand=True)\n",
    "\n",
    "    # เฟรมด้านซ้าย\n",
    "    left_frame = tk.Frame(paned, bg=\"lightblue\", width=200, height=400)\n",
    "    paned.add(left_frame)\n",
    "\n",
    "    # เฟรมด้านขวา\n",
    "    right_frame = tk.Frame(paned, bg=\"lightgreen\", width=400, height=400)\n",
    "    paned.add(right_frame)\n",
    "\n",
    "    # เพิ่มวิดเจ็ตเล็ก ๆ ในแต่ละเฟรม (ตัวอย่าง)\n",
    "    label_left = tk.Label(left_frame, text=\"Left Pane\", bg=\"lightblue\")\n",
    "    label_left.pack(padx=10, pady=10)\n",
    "\n",
    "    label_right = tk.Label(right_frame, text=\"Right Pane\", bg=\"lightgreen\")\n",
    "    label_right.pack(padx=10, pady=10)\n",
    "\n",
    "    # เริ่มต้น event loop\n",
    "    root.mainloop()\n",
    "\n",
    "if __name__ == \"__main__\":\n",
    "    main()\n"
   ]
  },
  {
   "cell_type": "code",
   "execution_count": 5,
   "metadata": {},
   "outputs": [],
   "source": [
    "import tkinter as tk\n",
    "from tkinter import ttk\n",
    "\n",
    "class MyApp(tk.Tk):\n",
    "    def __init__(self):\n",
    "        super().__init__()\n",
    "        \n",
    "        self.title(\"Class-based Tkinter App\")\n",
    "        self.geometry(\"300x200\")\n",
    "        \n",
    "        self.label = ttk.Label(self, text=\"Hello, Tkinter!\")\n",
    "        self.label.pack(pady=10)\n",
    "        \n",
    "        self.button = ttk.Button(self, text=\"Click Me\", command=self.on_button_click)\n",
    "        self.button.pack(pady=5)\n",
    "    \n",
    "    def on_button_click(self):\n",
    "        self.label.config(text=\"Button Clicked!\")\n",
    "\n",
    "if __name__ == \"__main__\":\n",
    "    app = MyApp()\n",
    "    app.mainloop()"
   ]
  },
  {
   "cell_type": "code",
   "execution_count": 14,
   "metadata": {},
   "outputs": [],
   "source": [
    "import tkinter as tk\n",
    "from tkinter import ttk\n",
    "\n",
    "def greet():\n",
    "    # อ่านค่าจาก Entry แล้วแสดงผลใน Label\n",
    "    name = name_var.get()\n",
    "    greeting_var.set(f\"Hello, {name}!\")\n",
    "\n",
    "def main():\n",
    "    root = tk.Tk()\n",
    "    root.title(\"ttk Example\")\n",
    "    root.geometry(\"300x200\")\n",
    "\n",
    "    # ----- กำหนดธีม (Theme) -----\n",
    "    # ลอง print(ttk.Style().theme_names()) เพื่อดูว่ามีธีมอะไรบ้าง\n",
    "    style = ttk.Style()\n",
    "    style.theme_use(\"aqua\")  \n",
    "    # หรือสามารถใช้ \"default\", \"clam\", \"alt\", \"classic\", \"vista\", \"xpnative\" ฯลฯ\n",
    "    # โดยธีมที่มีอาจขึ้นอยู่กับระบบปฏิบัติการ\n",
    "\n",
    "    # ----- ตัวแปร (Variables) -----\n",
    "    global name_var, greeting_var\n",
    "    name_var = tk.StringVar()\n",
    "    greeting_var = tk.StringVar()\n",
    "\n",
    "    # ----- วิดเจ็ต ttk -----\n",
    "\n",
    "    # 1. Label\n",
    "    ttk.Label(root, text=\"Enter your name:\").pack(pady=5)\n",
    "\n",
    "    # 2. Entry (ผูกกับ StringVar)\n",
    "    ttk.Entry(root, textvariable=name_var).pack(pady=5)\n",
    "\n",
    "    # 3. Button\n",
    "    ttk.Button(root, text=\"Greet\", command=greet).pack(pady=5)\n",
    "\n",
    "    # 4. Label สำหรับแสดงผลลัพธ์ (ผูกกับ StringVar)\n",
    "    ttk.Label(root, textvariable=greeting_var, foreground=\"blue\").pack(pady=5)\n",
    "\n",
    "    # 5. Combobox ตัวอย่าง\n",
    "    combo_var = tk.StringVar()\n",
    "    combo = ttk.Combobox(root, textvariable=combo_var)\n",
    "    combo['values'] = (\"Python\", \"Java\", \"C++\", \"Go\", \"JavaScript\")\n",
    "    combo.current(0)  # เลือก option แรกเริ่ม\n",
    "    combo.pack(pady=5)\n",
    "\n",
    "    root.mainloop()\n",
    "\n",
    "if __name__ == \"__main__\":\n",
    "    main()\n"
   ]
  },
  {
   "cell_type": "code",
   "execution_count": 12,
   "metadata": {},
   "outputs": [
    {
     "name": "stdout",
     "output_type": "stream",
     "text": [
      "('aqua', 'clam', 'alt', 'default', 'classic')\n"
     ]
    }
   ],
   "source": [
    "import tkinter as tk\n",
    "from tkinter import ttk\n",
    "\n",
    "root = tk.Tk()\n",
    "style = ttk.Style()\n",
    "print(style.theme_names())  # แสดงรายชื่อธีมที่หาได้\n",
    "root.destroy()"
   ]
  },
  {
   "cell_type": "code",
   "execution_count": 19,
   "metadata": {},
   "outputs": [
    {
     "name": "stdout",
     "output_type": "stream",
     "text": [
      "BMI: 24.22 (Normal weight)\n",
      "Normal weight\n"
     ]
    }
   ],
   "source": [
    "def reclass(bmiraw):\n",
    "    if bmiraw < 18.5:\n",
    "        return \"Underweight\"\n",
    "    elif bmiraw < 25:\n",
    "        return \"Normal weight\"\n",
    "    elif bmiraw < 30:\n",
    "        return \"Overweight\"\n",
    "    else:\n",
    "        return \"Obesity\"\n",
    "\n",
    "def calBMI(weight, height):\n",
    "    bmi_raw = weight / (height/100)**2\n",
    "    bmi = reclass(bmi_raw)\n",
    "    print(f\"BMI: {bmi_raw:.2f} ({bmi})\")\n",
    "    return bmi\n",
    "\n",
    "if __name__ == \"__main__\":\n",
    "    mybmi = calBMI(70, 170)  # 24.22\n",
    "    print(mybmi)"
   ]
  },
  {
   "cell_type": "code",
   "execution_count": 23,
   "metadata": {},
   "outputs": [
    {
     "name": "stdout",
     "output_type": "stream",
     "text": [
      "Normal weight\n"
     ]
    }
   ],
   "source": [
    "class BMI:\n",
    "    def __init__(self):\n",
    "        self.weight = 0\n",
    "        self.height = 0\n",
    "\n",
    "    def calBMI(self):\n",
    "        bmi_raw = self.weight / (self.height/100)**2\n",
    "        bmi = reclass(bmi_raw)\n",
    "        # print(f\"BMI: {bmi_raw:.2f} ({bmi})\")\n",
    "        return bmi\n",
    "    \n",
    "    def setWeight(self, weight):\n",
    "        self.weight = weight\n",
    "\n",
    "    def setHeight(self, height):\n",
    "        self.height = height\n",
    "\n",
    "if __name__ == \"__main__\":\n",
    "    mybmi = BMI()\n",
    "    mybmi.setWeight(70)\n",
    "    mybmi.setHeight(170)\n",
    "    a = mybmi.calBMI()\n",
    "    print(a)\n",
    "\n"
   ]
  },
  {
   "cell_type": "code",
   "execution_count": 92,
   "metadata": {},
   "outputs": [
    {
     "name": "stdout",
     "output_type": "stream",
     "text": [
      "Normal weight\n",
      "BMI: 70 kg / 170 cm\n"
     ]
    }
   ],
   "source": [
    "class BMI:\n",
    "    def __init__(self):\n",
    "        self.weight = 1\n",
    "        self.height = 1\n",
    "    \n",
    "    def reclass(self, bmiraw):\n",
    "        if bmiraw < 18.5:\n",
    "            return \"Underweight\"\n",
    "        elif bmiraw < 25:\n",
    "            return \"Normal weight\"\n",
    "        elif bmiraw < 30:\n",
    "            return \"Overweight\"\n",
    "        else:\n",
    "            return \"Obesity\"\n",
    "\n",
    "    # sequential setter\n",
    "    def setWeight(self, weight):\n",
    "        self.weight = weight\n",
    "        return self\n",
    "    \n",
    "    def setHeight(self, height):\n",
    "        self.height = height\n",
    "        return self\n",
    "    \n",
    "    def calBMI(self):\n",
    "        bmi_raw = self.weight / (self.height/100)**2\n",
    "        bmi = reclass(bmi_raw)\n",
    "        return bmi\n",
    "\n",
    "    def __str__(self):\n",
    "        return f\"BMI: {self.weight} kg / {self.height} cm\"\n",
    "    \n",
    "    # def __str__(self):\n",
    "    #     return f\"BMI: {self.weight} kg / {self.height} cm\"\n",
    "\n",
    "if __name__ == \"__main__\":\n",
    "    mybmi = BMI()\n",
    "    a = mybmi.setWeight(70).setHeight(170).calBMI()\n",
    "    print(a)\n",
    "    print(mybmi)"
   ]
  },
  {
   "cell_type": "code",
   "execution_count": 109,
   "metadata": {},
   "outputs": [
    {
     "name": "stdout",
     "output_type": "stream",
     "text": [
      "Obesity\n",
      "BMI: 4 kg / 33 cm\n"
     ]
    }
   ],
   "source": [
    "import tkinter as tk\n",
    "from tkinter import ttk\n",
    "\n",
    "root = tk.Tk()\n",
    "root.title(\"คำนวณ BMI\")\n",
    "root.geometry(\"400x300\")\n",
    "\n",
    "def onClick():\n",
    "    h = height.get()\n",
    "    w = weight.get()\n",
    "    bmi = BMI()\n",
    "    h = int(h)\n",
    "    w = int(w)\n",
    "\n",
    "    bmi_value = bmi.setWeight(w).setHeight(h).calBMI()\n",
    "    print(bmi_value)\n",
    "    print(bmi)\n",
    "    result.set(f\"BMI = {bmi_value}\")\n",
    "\n",
    "labelH = tk.Label(root, text=\"กรอกส่วนสูง\")\n",
    "# label.pack()\n",
    "height = tk.Entry()\n",
    "# height.pack()\n",
    "\n",
    "labelW = tk.Label(root, text=\"กรอกน้ำหนัก\")\n",
    "weight = tk.Entry()\n",
    "\n",
    "result = tk.StringVar()\n",
    "result.set(\"sss\")\n",
    "labelResult = tk.Label(root, textvariable=result)\n",
    "\n",
    "button = tk.Button(text=\"ตกลง\",command=onClick)\n",
    "\n",
    "labelH.grid(row=0, column=0)\n",
    "height.grid(row=0, column=1)\n",
    "labelW.grid(row=1, column=0)\n",
    "weight.grid(row=1, column=1)\n",
    "button.grid(row=2, column=1)\n",
    "labelResult.grid(row=3, column=1)\n",
    "\n",
    "root.mainloop()"
   ]
  },
  {
   "cell_type": "code",
   "execution_count": 3,
   "metadata": {},
   "outputs": [
    {
     "name": "stdout",
     "output_type": "stream",
     "text": [
      "2\n"
     ]
    },
    {
     "ename": "TypeError",
     "evalue": "setHeight() missing 1 required positional argument: 'height'",
     "output_type": "error",
     "traceback": [
      "\u001b[0;31m---------------------------------------------------------------------------\u001b[0m",
      "\u001b[0;31mTypeError\u001b[0m                                 Traceback (most recent call last)",
      "Cell \u001b[0;32mIn[3], line 28\u001b[0m\n\u001b[1;32m     26\u001b[0m \u001b[38;5;66;03m# call new method\u001b[39;00m\n\u001b[1;32m     27\u001b[0m a\u001b[38;5;241m.\u001b[39msetWidth(\u001b[38;5;241m3\u001b[39m)\n\u001b[0;32m---> 28\u001b[0m \u001b[43ma\u001b[49m\u001b[38;5;241;43m.\u001b[39;49m\u001b[43msetHeight\u001b[49m\u001b[43m(\u001b[49m\u001b[38;5;241;43m4\u001b[39;49m\u001b[43m)\u001b[49m\n\u001b[1;32m     30\u001b[0m \u001b[38;5;28mprint\u001b[39m(a\u001b[38;5;241m.\u001b[39mwidth, a\u001b[38;5;241m.\u001b[39mheight)\n",
      "\u001b[0;31mTypeError\u001b[0m: setHeight() missing 1 required positional argument: 'height'"
     ]
    }
   ],
   "source": [
    "class Car():\n",
    "    def __init__(self):\n",
    "        self.width = 1\n",
    "    \n",
    "    def setWidth(self, width):\n",
    "        self.width = width\n",
    "        return self\n",
    "\n",
    "    def __str__(self):\n",
    "        return f'{self.width}'\n",
    "\n",
    "a = Car()\n",
    "b = a.setWidth(1)\n",
    "\n",
    "# add new property to object\n",
    "a.height = 2\n",
    "print(a.height)\n",
    "\n",
    "# add new method to object\n",
    "def setHeight(self, height):\n",
    "    self.height = height\n",
    "    return self\n",
    "\n",
    "a.setHeight = setHeight\n",
    "\n",
    "# call new method\n",
    "a.setWidth(3)\n",
    "\n",
    "print(a.width, a.height)\n"
   ]
  }
 ],
 "metadata": {
  "kernelspec": {
   "display_name": "geo",
   "language": "python",
   "name": "python3"
  },
  "language_info": {
   "codemirror_mode": {
    "name": "ipython",
    "version": 3
   },
   "file_extension": ".py",
   "mimetype": "text/x-python",
   "name": "python",
   "nbconvert_exporter": "python",
   "pygments_lexer": "ipython3",
   "version": "3.12.2"
  }
 },
 "nbformat": 4,
 "nbformat_minor": 2
}
