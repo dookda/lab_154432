{
 "cells": [
  {
   "cell_type": "code",
   "execution_count": 2,
   "metadata": {},
   "outputs": [],
   "source": [
    "import tkinter as tk\n",
    "import tkinter.font as tkFont\n"
   ]
  },
  {
   "cell_type": "code",
   "execution_count": 46,
   "metadata": {},
   "outputs": [],
   "source": [
    "root = tk.Tk()\n",
    "\n",
    "root.title(\"Hello World!\")\n",
    "root.geometry(\"400x300\")\n",
    "\n",
    "# create a font\n",
    "font24 = tkFont.Font(size=24, weight=\"bold\")  \n",
    "\n",
    "# add a label\n",
    "label = tk.Label(root, text=\"Hello ดา!\", font=font24)\n",
    "\n",
    "# pack the label into the window\n",
    "label.pack()\n",
    "\n",
    "root.mainloop()\n",
    "\n"
   ]
  },
  {
   "cell_type": "code",
   "execution_count": 32,
   "metadata": {},
   "outputs": [],
   "source": [
    "root = tk.Tk()\n",
    "\n",
    "root.title(\"Hello World!\")\n",
    "root.geometry(\"400x300\")\n",
    "\n",
    "# create a font\n",
    "font24 = tkFont.Font(size=24, weight=\"bold\")  \n",
    "\n",
    "# label\n",
    "label = tk.Label(root, text=\"Hello ดา!\", font=font24)\n",
    "label.pack(pady=20)\n",
    "\n",
    "# input\n",
    "entry = tk.Entry(root)\n",
    "entry.pack()\n",
    "\n",
    "# button\n",
    "def say_hello():\n",
    "    # get the text from the entry\n",
    "    name = entry.get()\n",
    "    label.config(text=name)\n",
    "\n",
    "button = tk.Button(root, text=\"Say Hello\", command=say_hello)\n",
    "button.pack(ipadx=5, ipady=5, anchor=\"center\", expand=True)\n",
    "\n",
    "\n",
    "root.mainloop()"
   ]
  },
  {
   "cell_type": "code",
   "execution_count": 38,
   "metadata": {},
   "outputs": [],
   "source": [
    "import tkinter as tk\n",
    "\n",
    "root = tk.Tk()\n",
    "root.title(\"Grid Example\")\n",
    "root.geometry(\"300x200\")\n",
    "\n",
    "label1 = tk.Label(root, text=\"Label 1\")\n",
    "label2 = tk.Label(root, text=\"Label 2\")\n",
    "button = tk.Button(root, text=\"A Button\")\n",
    "\n",
    "# จัดวางวิดเจ็ตบนตาราง 2 แถว 2 คอลัมน์ (row=0,1 / column=0,1)\n",
    "label1.grid(row=0, column=0, padx=10, pady=10)\n",
    "label2.grid(row=0, column=1, padx=10, pady=10)\n",
    "button.grid(row=1, column=0, pady=10)\n",
    "\n",
    "root.mainloop()"
   ]
  },
  {
   "cell_type": "code",
   "execution_count": 37,
   "metadata": {},
   "outputs": [
    {
     "data": {
      "text/plain": [
       "'ok'"
      ]
     },
     "execution_count": 37,
     "metadata": {},
     "output_type": "execute_result"
    }
   ],
   "source": [
    "from tkinter import messagebox\n",
    "\n",
    "messagebox.showinfo(\"Info\", \"This is an info message.\")\n",
    "messagebox.showwarning(\"Warning\", \"This is a warning.\")\n"
   ]
  }
 ],
 "metadata": {
  "kernelspec": {
   "display_name": "geo",
   "language": "python",
   "name": "python3"
  },
  "language_info": {
   "codemirror_mode": {
    "name": "ipython",
    "version": 3
   },
   "file_extension": ".py",
   "mimetype": "text/x-python",
   "name": "python",
   "nbconvert_exporter": "python",
   "pygments_lexer": "ipython3",
   "version": "3.12.2"
  }
 },
 "nbformat": 4,
 "nbformat_minor": 2
}
